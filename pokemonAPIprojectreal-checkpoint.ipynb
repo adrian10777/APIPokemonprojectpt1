{
 "cells": [
  {
   "cell_type": "code",
   "execution_count": null,
   "id": "ce884434",
   "metadata": {
    "scrolled": false
   },
   "outputs": [],
   "source": [
    "#POKEMON API\n",
    "#Retrieve a list of Pokemon's name, abilities, types, and weight from the PokeAPI\n",
    " #https://pokeapi.co/\n",
    "\n",
    "#Make 20 Pokemon\n",
    "\n",
    "#Whenever you need to create a POKEMON, you need to construct your Pokemon through data from the API: https://pokeapi.co/\n",
    "\n",
    "#Below is an example of how your Pokemon should be categorized: by Type.\n",
    "#Create a dictionary\n",
    "#{\n",
    "#'Fire': {\n",
    "#    'charizard': {\n",
    "#        'abilities': [],\n",
    "#        'weight': ,\n",
    "#        },\n",
    "#    'pokemon': {\n",
    "#       'abilities': [],\n",
    "#        'weight': ,\n",
    "#        }\n",
    "#},\n",
    "#'Flying':,\n",
    "#'Water':\n",
    "#}\n",
    "\n",
    "#When you're done, create a GitHub repository for your assignment and save the repository link as the assignment."
   ]
  },
  {
   "cell_type": "code",
   "execution_count": 47,
   "id": "b1b71a54",
   "metadata": {},
   "outputs": [
    {
     "name": "stdout",
     "output_type": "stream",
     "text": [
      "200\n",
      "dict_keys(['abilities', 'base_experience', 'forms', 'game_indices', 'height', 'held_items', 'id', 'is_default', 'location_area_encounters', 'moves', 'name', 'order', 'past_types', 'species', 'sprites', 'stats', 'types', 'weight'])\n"
     ]
    }
   ],
   "source": [
    "#making an API call-navigating to a url and requestion info from url\n",
    "import requests as r\n",
    "req = r.get('https://pokeapi.co/api/v2/pokemon/articuno')\n",
    "print(req.status_code) #this gives response obj\n",
    "#200 means successful, 400,500's are the bad ones (Error messages)\n",
    "if req.status_code ==200:\n",
    "    data= req.json() \n",
    "#print(data) #now a class dict\n",
    "print(data.keys()) #datas keys, this shows all dict keys \n",
    "\n",
    "#line 3: make req to call req package get method on url you want data from\n",
    "#line 4:req=200(statuscode)\n",
    "#line6: build as a conditional after seeing succssful statuscode\n",
    "#we want to access actual data from the request from the requests\n",
    "#line7: make a variable data set = to response obj from req. json \n",
    "#json()= json data translates api from pokemon to readable code"
   ]
  },
  {
   "cell_type": "code",
   "execution_count": 50,
   "id": "4cfca31a",
   "metadata": {},
   "outputs": [
    {
     "name": "stdout",
     "output_type": "stream",
     "text": [
      "articuno\n"
     ]
    }
   ],
   "source": [
    "#name, abilities, types, and weight\n",
    "\n",
    "#get the name\n",
    "#when im doing 1 at a time, my goal is to save name as own variable\n",
    "#data is your overall dict\n",
    "#name string is held in variable name\n",
    "name = data['name'] #['name']= accessing name key in data dict\n",
    "print(name)# anytime u access key or index list, going deep into data print\n",
    "\n"
   ]
  },
  {
   "cell_type": "code",
   "execution_count": 51,
   "id": "0ac815b2",
   "metadata": {},
   "outputs": [
    {
     "name": "stdout",
     "output_type": "stream",
     "text": [
      "554\n"
     ]
    }
   ],
   "source": [
    "#get weight\n",
    "weight = data['weight']\n",
    "print(weight)"
   ]
  },
  {
   "cell_type": "code",
   "execution_count": 74,
   "id": "9996851d",
   "metadata": {
    "scrolled": true
   },
   "outputs": [
    {
     "name": "stdout",
     "output_type": "stream",
     "text": [
      "snow-cloak\n",
      "['pressure', 'snow-cloak']\n"
     ]
    }
   ],
   "source": [
    "#get abilities\n",
    "#abilities has : [], abilities is a list.\n",
    "#more to do to get things out of lists\n",
    "#how to access specific value in a list, you index in a list. \n",
    "# [1] is where snow cloak is specifically\n",
    "\n",
    "\n",
    "#abilitieslist = data['abilities'] #accessing abilities\n",
    "#oneability= abilitieslist[1] #indexing specifically to 2nd abilities list\n",
    "#justability = oneability['ability'] #zooms on ability\n",
    "#abilityname = justability['name']#going into name key\n",
    "#print(abilityname)\n",
    "\n",
    "#list comprehension\n",
    "#look for repeated variables, just sub in values of these abilities\n",
    "#whatever the repeated variable is, copy that answer and set it = to itself\n",
    "\n",
    "#we go into data dict, access ability keys, go in 1st index of list ability\n",
    "#which is a dict. go into ability key another dict, name key is string\n",
    "\n",
    "#abilityname = data['abilities'][1]['ability'] ['name']\n",
    "            #      list            do to each item in list\n",
    "    \n",
    "#print(abilityname)\n",
    "\n",
    "#if you have a list and want to do something to list this screams\n",
    "#LOOP!\n",
    "    \n",
    "#the part of our data access that comes before indexing into list is the list\n",
    "#the part of our data access that comes after indexing into list is what\n",
    "#we want to do to each item in that list\n",
    "\n",
    "#we got one ability but we want to get multiple abilities\n",
    "\n",
    "abilityname = data['abilities'][1]['ability'] ['name']\n",
    "#print(abilityname)\n",
    "\n",
    "abilities=[]\n",
    "for x in data['abilities']:\n",
    "    abilities.append(x['ability'] ['name']) # x represents the dict that contains the ability key\n",
    "print(abilities)\n",
    "\n",
    "#x is taking the place of indexing\n",
    "# we have our list data['abilities'] that we are iterating through\n",
    "# the thing we are doing to each item in list ['ability']['name']\n",
    "\n",
    "#this for loop is no diff than what we are doing in line 35, we're just\n",
    "#we're just replacing the individual indexing, with a loop\n",
    "\n",
    "#take ['ability'] ['name']= do to items in list\n",
    "#chain that on step of our loop after print x instead of on [1] above\n",
    "# How would we save that. u want to save ability, name\n",
    "#multilpe abilities, u need to save to collection on list, set, or dict\n",
    "# to add things to a list, make list, abilities = []\n",
    "#then instead of printing ability names, u append ability names to list\n",
    "#abilities.append, so now instead of print, it append in list saved.\n",
    "#after for loop done, pring abilities list\n",
    "\n",
    "\n",
    "#thats a for loop though a list creating a new list with a transformation\n",
    "#isn't there a better way to put a for loop through a list, \n",
    "#creating a new list with a transformation?\n",
    "#this is what list comprehensions are made for!\n",
    "\n",
    "# structure for a list comprehension\n",
    "#(Transformation for item in iterable) transformation= ['ability']['name']\n",
    "#[1] or x representing placeholder for item in our list we are looping through\n",
    "#data['abilities'] our original list\n",
    "#list comprehension is a rewritting of the for loop\n",
    "\n",
    "\n",
    "#                 transformation      item   original list(iterable)\n",
    "abilities = [x['ability']['name']] for x in data['abilities']\n",
    "print(abilities)"
   ]
  },
  {
   "cell_type": "code",
   "execution_count": 75,
   "id": "47158aed",
   "metadata": {},
   "outputs": [
    {
     "name": "stdout",
     "output_type": "stream",
     "text": [
      "ice\n",
      "['ice', 'flying']\n"
     ]
    }
   ],
   "source": [
    "#get types\n",
    "#[], also a list. similar to abilities\n",
    "\n",
    "typename= data['types'][0]['type']['name']\n",
    "print(typename)\n",
    "\n",
    "#if u can do it for 1 u can do it for many\n",
    "#transalte single transformation into a list comprehension\n",
    "\n",
    "# instead of indexing we will have a \n",
    "#placeholder x for index we are looking at\n",
    "#our iterable is data['types']\n",
    "#transformation ['type']['name']\n",
    "types= [x['type']['name'] for x in data['types']]\n",
    "print(types)\n",
    "\n",
    "#at this point I can access each of the pieces that I need\n",
    "#single line process (list comprehension) to access each piece of data,\n",
    "#type,ability,name, height\n",
    "\n"
   ]
  },
  {
   "cell_type": "code",
   "execution_count": null,
   "id": "511e1cbf",
   "metadata": {},
   "outputs": [],
   "source": [
    "#we need to do dict structure for pokemon\n",
    "\n",
    "pokemon1: {\n",
    "'name': ,\n",
    "'abilities': [],\n",
    "'weight': ,\n",
    "'types': []\n",
    "}\n",
    "\n",
    "#it turns out that if we have figured out the processes for getting\n",
    "#this data seperately, we can easily make that dict\n",
    "\n"
   ]
  },
  {
   "cell_type": "code",
   "execution_count": 76,
   "id": "a2844088",
   "metadata": {},
   "outputs": [
    {
     "name": "stdout",
     "output_type": "stream",
     "text": [
      "{'name': 'articuno', 'abilities': ['pressure', 'snow-cloak'], 'weight': 554, 'types': ['ice', 'flying']}\n"
     ]
    }
   ],
   "source": [
    "# create a var = to dict, say name key should be name variable, etc\n",
    "# here u are utilizing each var u created earlier types: 'types' and\n",
    "#placing them in a dict\n",
    "\n",
    "#because u used list comprehension, you dont need these variable names\n",
    "\n",
    "articuno = {\n",
    "    'name': name,\n",
    "    'abilities': abilities,\n",
    "    'weight': weight,\n",
    "    'types': types\n",
    "}\n",
    "\n",
    "print(articuno)"
   ]
  },
  {
   "cell_type": "code",
   "execution_count": 83,
   "id": "29e90bd9",
   "metadata": {},
   "outputs": [
    {
     "name": "stdout",
     "output_type": "stream",
     "text": [
      "200\n",
      "{'name': 'spheal', 'types': ['ice', 'water'], 'abilities': ['thick-fat', 'ice-body', 'oblivious'], 'weight': 395}\n"
     ]
    }
   ],
   "source": [
    "#diff pokemon\n",
    "\n",
    "import requests as r\n",
    "req = r.get('https://pokeapi.co/api/v2/pokemon/spheal')\n",
    "print(req.status_code) #this gives response obj\n",
    "#200 means successful, 400,500's are the bad ones (Error messages)\n",
    "if req.status_code ==200:\n",
    "    data= req.json() \n",
    "\n",
    "#this data is in same structure, all pokemons accessed same way because of API\n",
    "\n",
    "spheal = {\n",
    "    'name': data['name'],\n",
    "    'types': [x['type']['name'] for x in data['types']],\n",
    "    'abilities': [x['ability']['name'] for x in data['abilities']],\n",
    "    'weight': data['weight']\n",
    "    \n",
    "}\n",
    "\n",
    "print(spheal)\n",
    "\n",
    "#is there a way that we could make this process even fewer lines for a new pokemon?\n",
    "#of course!\n",
    "#define process, and lets us use as many times as we want for many inputs\n",
    "#make it a function! lets us use for a lot of things!"
   ]
  },
  {
   "cell_type": "code",
   "execution_count": 84,
   "id": "f9e5687d",
   "metadata": {},
   "outputs": [
    {
     "ename": "NameError",
     "evalue": "name 'pokemon' is not defined",
     "output_type": "error",
     "traceback": [
      "\u001b[1;31m---------------------------------------------------------------------------\u001b[0m",
      "\u001b[1;31mNameError\u001b[0m                                 Traceback (most recent call last)",
      "\u001b[1;32m<ipython-input-84-e2707d58ca0a>\u001b[0m in \u001b[0;36m<module>\u001b[1;34m\u001b[0m\n\u001b[0;32m      5\u001b[0m \u001b[1;33m\u001b[0m\u001b[0m\n\u001b[0;32m      6\u001b[0m     \u001b[1;32mimport\u001b[0m \u001b[0mrequests\u001b[0m \u001b[1;32mas\u001b[0m \u001b[0mr\u001b[0m               \u001b[1;31m#input var for function\u001b[0m\u001b[1;33m\u001b[0m\u001b[1;33m\u001b[0m\u001b[0m\n\u001b[1;32m----> 7\u001b[1;33m \u001b[0mreq\u001b[0m \u001b[1;33m=\u001b[0m \u001b[0mr\u001b[0m\u001b[1;33m.\u001b[0m\u001b[0mget\u001b[0m\u001b[1;33m(\u001b[0m\u001b[1;34mf'https://pokeapi.co/api/v2/pokemon/{pokemon}'\u001b[0m\u001b[1;33m)\u001b[0m\u001b[1;33m\u001b[0m\u001b[1;33m\u001b[0m\u001b[0m\n\u001b[0m\u001b[0;32m      8\u001b[0m \u001b[0mprint\u001b[0m\u001b[1;33m(\u001b[0m\u001b[0mreq\u001b[0m\u001b[1;33m.\u001b[0m\u001b[0mstatus_code\u001b[0m\u001b[1;33m)\u001b[0m \u001b[1;31m#this gives response obj\u001b[0m\u001b[1;33m\u001b[0m\u001b[1;33m\u001b[0m\u001b[0m\n\u001b[0;32m      9\u001b[0m \u001b[1;31m#200 means successful, 400,500's are the bad ones (Error messages)\u001b[0m\u001b[1;33m\u001b[0m\u001b[1;33m\u001b[0m\u001b[1;33m\u001b[0m\u001b[0m\n",
      "\u001b[1;31mNameError\u001b[0m: name 'pokemon' is not defined"
     ]
    }
   ],
   "source": [
    "#make it a function\n",
    "\n",
    "#how do we put THE VALUE OF VAR INTO A STRING? formatted string (f string)\n",
    "def pokeAPIcall(pokemon):\n",
    "    \n",
    "    import requests as r               #input var for function\n",
    "req = r.get(f'https://pokeapi.co/api/v2/pokemon/{pokemon}')\n",
    "print(req.status_code) #this gives response obj\n",
    "#200 means successful, 400,500's are the bad ones (Error messages)\n",
    "if req.status_code ==200:\n",
    "    data= req.json() \n",
    "\n",
    "#this data is in same structure, all pokemons accessed same way because of API\n",
    "\n",
    "    pokedict = {\n",
    "        'name': data['name'],\n",
    "        'types': [x['type']['name'] for x in data['types']],\n",
    "        'abilities': [x['ability']['name'] for x in data['abilities']],\n",
    "        'weight': data['weight']\n",
    "\n",
    "    }\n",
    "\n",
    "# instead of printing spheal(pokemon), we created something new inside a function\n",
    "#if we want new thing created inside the function to be accessible\n",
    "#outside the function it needs to be returned\n",
    "    return pokedict\n",
    "    \n",
    "\n",
    "    "
   ]
  },
  {
   "cell_type": "code",
   "execution_count": null,
   "id": "50d5bfe9",
   "metadata": {},
   "outputs": [],
   "source": []
  },
  {
   "cell_type": "code",
   "execution_count": null,
   "id": "e27e89f1",
   "metadata": {},
   "outputs": [],
   "source": []
  },
  {
   "cell_type": "code",
   "execution_count": null,
   "id": "18ecf85e",
   "metadata": {},
   "outputs": [],
   "source": []
  },
  {
   "cell_type": "code",
   "execution_count": null,
   "id": "7818771b",
   "metadata": {},
   "outputs": [],
   "source": []
  },
  {
   "cell_type": "code",
   "execution_count": null,
   "id": "86e3a810",
   "metadata": {},
   "outputs": [],
   "source": []
  }
 ],
 "metadata": {
  "kernelspec": {
   "display_name": "Python 3",
   "language": "python",
   "name": "python3"
  },
  "language_info": {
   "codemirror_mode": {
    "name": "ipython",
    "version": 3
   },
   "file_extension": ".py",
   "mimetype": "text/x-python",
   "name": "python",
   "nbconvert_exporter": "python",
   "pygments_lexer": "ipython3",
   "version": "3.8.8"
  }
 },
 "nbformat": 4,
 "nbformat_minor": 5
}
